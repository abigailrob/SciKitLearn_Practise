{
 "cells": [
  {
   "cell_type": "code",
   "execution_count": 39,
   "id": "481f501f-52ce-4091-966f-32ed62c7aad2",
   "metadata": {},
   "outputs": [],
   "source": [
    "#Import scikit learn\n",
    "import sklearn\n",
    "\n",
    "\n",
    "from sklearn.datasets import load_breast_cancer #Import toy dataset\n",
    "from sklearn.model_selection import train_test_split #Import function to split test/train data\n",
    "from sklearn.naive_bayes import GaussianNB #Import ML algorithm we will train\n",
    "from sklearn.metrics import accuracy_score #Import fucntion to calulate accuracy of model using test set\n"
   ]
  },
  {
   "cell_type": "code",
   "execution_count": 40,
   "id": "a50f992e-2829-4c3d-95e0-a6e58f3130ef",
   "metadata": {},
   "outputs": [],
   "source": [
    "#Dataset has 569 instances on 569 tumors and includes information on 30 attributes. \n",
    "data = load_breast_cancer()\n",
    "\n",
    "#Dataset data is in a dictionary-like object, with key-attribute pairs. \n",
    "#Below I pull out specific info and assing it to new variables using their key values.\n",
    "label_names = data['target_names'] # targe_names is the key, and its attribute is an array with two strings array(['malignant', 'benign']\n",
    "labels = data['target'] # these are the correct class labels assigned to each feature vector 0 = malignant 1 = benign\n",
    "feature_names = data['feature_names'] #list of the names of each feature making up the feature vector\n",
    "features = data['data'] #a nested array of feature vectors of size n = data set size and with size n = total number of features \n"
   ]
  },
  {
   "cell_type": "code",
   "execution_count": 41,
   "id": "ad3d0306-e046-4352-b273-81ab505e0901",
   "metadata": {},
   "outputs": [],
   "source": [
    "#Split the dataset into training and test datasets using the function train_test_split\n",
    "    #test dataset is 33% of the total data \n",
    "    #train and test contain feature vectors \n",
    "    #train_lables and test_labels contain labels 0 or 1 for each feature vector\n",
    "train, test, train_labels, test_labels = train_test_split(features, labels, test_size=0.33, random_state=42)"
   ]
  },
  {
   "cell_type": "code",
   "execution_count": 42,
   "id": "0c3effdb-6a49-495d-95ba-33520fa4f0dd",
   "metadata": {},
   "outputs": [],
   "source": [
    "#Train NB model \n",
    "#Initialize our classifier\n",
    "gnb = GaussianNB()\n",
    "\n",
    "#Train our classifier\n",
    "model = gnb.fit(train, train_labels)\n"
   ]
  },
  {
   "cell_type": "code",
   "execution_count": 43,
   "id": "11622b66-4530-4e41-837e-faee9b454904",
   "metadata": {},
   "outputs": [
    {
     "name": "stdout",
     "output_type": "stream",
     "text": [
      "[1 0 0 1 1 0 0 0 1 1 1 0 1 0 1 0 1 1 1 0 1 1 0 1 1 1 1 1 1 0 1 1 1 1 1 1 0\n",
      " 1 0 1 1 0 1 1 1 1 1 1 1 1 0 0 1 1 1 1 1 0 0 1 1 0 0 1 1 1 0 0 1 1 0 0 1 0\n",
      " 1 1 1 1 1 1 0 1 1 0 0 0 0 0 1 1 1 1 1 1 1 1 0 0 1 0 0 1 0 0 1 1 1 0 1 1 0\n",
      " 1 1 0 0 0 1 1 1 0 0 1 1 0 1 0 0 1 1 0 0 0 1 1 1 0 1 1 0 0 1 0 1 1 0 1 0 0\n",
      " 1 1 1 1 1 1 1 0 0 1 1 1 1 1 1 1 1 1 1 1 1 0 0 1 1 0 1 1 0 1 1 1 1 1 1 0 0\n",
      " 0 1 1]\n"
     ]
    }
   ],
   "source": [
    "#Test model on text dataset \n",
    "# Make predictions\n",
    "preds = gnb.predict(test)\n",
    "print(preds)"
   ]
  },
  {
   "cell_type": "code",
   "execution_count": 44,
   "id": "c61511ef-9ccc-4f3d-a303-a3e81b9039a3",
   "metadata": {},
   "outputs": [
    {
     "name": "stdout",
     "output_type": "stream",
     "text": [
      "0.9414893617021277\n"
     ]
    }
   ],
   "source": [
    "#Evaluate model predictions by comparing test_labels vs preds\n",
    "#Will use specific function accuracy_score()\n",
    "print(accuracy_score(test_labels, preds))\n",
    "\n",
    "#Accuracy is % of time the classifier is able to make correct prediction"
   ]
  }
 ],
 "metadata": {
  "kernelspec": {
   "display_name": "Python 3 (ipykernel)",
   "language": "python",
   "name": "python3"
  },
  "language_info": {
   "codemirror_mode": {
    "name": "ipython",
    "version": 3
   },
   "file_extension": ".py",
   "mimetype": "text/x-python",
   "name": "python",
   "nbconvert_exporter": "python",
   "pygments_lexer": "ipython3",
   "version": "3.11.5"
  }
 },
 "nbformat": 4,
 "nbformat_minor": 5
}
